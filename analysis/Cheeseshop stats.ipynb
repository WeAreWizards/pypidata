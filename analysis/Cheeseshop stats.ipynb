{
 "metadata": {
  "name": "",
  "signature": "sha256:200c33686b295a5fb7c6adf668c82c3f54075abcb76d21d570a884ec31561d37"
 },
 "nbformat": 3,
 "nbformat_minor": 0,
 "worksheets": [
  {
   "cells": [
    {
     "cell_type": "markdown",
     "metadata": {},
     "source": [
      "# Cheeseshop stats\n",
      "\n",
      "I retrieved a dump of the current cheeseshop via [a scraper](https://github.com/WeAreWizards/pypidata) for an unrelated project. Here's some random information about the data.\n",
      "\n",
      "Releated projects / prior art:\n",
      "\n",
      "* http://pypi-ranking.info/alltime\n",
      "* [Pypi stats from Aaron Meurer](http://nbviewer.ipython.org/github/asmeurer/pypi/blob/notebookonly/PyPI%20stats.ipynb?create=1)\n",
      "\n",
      "First some basic imports:"
     ]
    },
    {
     "cell_type": "code",
     "collapsed": false,
     "input": [
      "%matplotlib inline\n",
      "from matplotlib import pyplot as plt\n",
      "import pandas"
     ],
     "language": "python",
     "metadata": {},
     "outputs": [],
     "prompt_number": 1
    },
    {
     "cell_type": "markdown",
     "metadata": {},
     "source": [
      "Load the data retrieved from our scrape."
     ]
    },
    {
     "cell_type": "code",
     "collapsed": false,
     "input": [
      "hdf = pandas.HDFStore('../pypi-2014-12-14.h5')\n",
      "package_df = hdf['package_df']\n",
      "version_df = hdf['version_df']"
     ],
     "language": "python",
     "metadata": {},
     "outputs": [],
     "prompt_number": 2
    },
    {
     "cell_type": "markdown",
     "metadata": {},
     "source": [
      "## Most popular licenses"
     ]
    },
    {
     "cell_type": "code",
     "collapsed": false,
     "input": [
      "ax = package_df.license.value_counts()[:10].plot(kind='barh')\n",
      "_ = ax.set_title('10 most popular licenses')"
     ],
     "language": "python",
     "metadata": {},
     "outputs": [
      {
       "metadata": {},
       "output_type": "display_data",
       "png": "[encoded data removed]",
       "text": [
        "<matplotlib.figure.Figure at 0x7f95cab655d0>"
       ]
      }
     ],
     "prompt_number": 3
    },
    {
     "cell_type": "markdown",
     "metadata": {},
     "source": [
      "The pypi data isn't very good. Ideally every package should have license metadata attached, i.e. not UNKNOWN or an empty string."
     ]
    },
    {
     "cell_type": "markdown",
     "metadata": {},
     "source": [
      "## How do people distribute their source?"
     ]
    },
    {
     "cell_type": "code",
     "collapsed": false,
     "input": [
      "ax = version_df.packagetype.value_counts().plot(kind='barh')\n",
      "ax.set_title('Package types (logarithmic x due to sdist being so popular)')\n",
      "version_df.packagetype.value_counts()"
     ],
     "language": "python",
     "metadata": {},
     "outputs": [
      {
       "metadata": {},
       "output_type": "pyout",
       "prompt_number": 4,
       "text": [
        "sdist            270175\n",
        "bdist_egg         33977\n",
        "bdist_wheel       10700\n",
        "bdist_wininst      9930\n",
        "bdist_dumb         2788\n",
        "bdist_msi           330\n",
        "bdist_rpm           222\n",
        "bdist_dmg            35\n",
        "dtype: int64"
       ]
      },
      {
       "metadata": {},
       "output_type": "display_data",
       "png": "[encoded data removed]",
       "text": [
        "<matplotlib.figure.Figure at 0x7f95cef9bf50>"
       ]
      }
     ],
     "prompt_number": 4
    },
    {
     "cell_type": "markdown",
     "metadata": {},
     "source": [
      "Looks like sdist is the popular choice, followed by eggs. It's interesting that the fairly new wheel format is catching up.\n",
      "\n",
      "## Packages sizes (in kB)"
     ]
    },
    {
     "cell_type": "code",
     "collapsed": false,
     "input": [
      "(version_df.size / 2**10).describe()"
     ],
     "language": "python",
     "metadata": {},
     "outputs": [
      {
       "metadata": {},
       "output_type": "pyout",
       "prompt_number": 14,
       "text": [
        "count    328157.000000\n",
        "mean        379.540196\n",
        "std        2114.564518\n",
        "min           0.000000\n",
        "25%           7.459961\n",
        "50%          21.620117\n",
        "75%          97.979492\n",
        "max      532517.974609\n",
        "Name: size, dtype: float64"
       ]
      }
     ],
     "prompt_number": 14
    },
    {
     "cell_type": "markdown",
     "metadata": {},
     "source": [
      "75% of packages are smaller than 100kB, that's nice! What's that huge package though?"
     ]
    },
    {
     "cell_type": "code",
     "collapsed": false,
     "input": [
      "version_df[version_df.size > 532517 * 2**10]"
     ],
     "language": "python",
     "metadata": {},
     "outputs": [
      {
       "html": [
        "<div style=\"max-height:1000px;max-width:1500px;overflow:auto;\">\n",
        "<table border=\"1\" class=\"dataframe\">\n",
        "  <thead>\n",
        "    <tr style=\"text-align: right;\">\n",
        "      <th></th>\n",
        "      <th>timestamp</th>\n",
        "      <th>pypi_name</th>\n",
        "      <th>version</th>\n",
        "      <th>downloads</th>\n",
        "      <th>md5_digest</th>\n",
        "      <th>packagetype</th>\n",
        "      <th>size</th>\n",
        "    </tr>\n",
        "  </thead>\n",
        "  <tbody>\n",
        "    <tr>\n",
        "      <th>113402</th>\n",
        "      <td> 1418479726</td>\n",
        "      <td> de422</td>\n",
        "      <td> 2009.1</td>\n",
        "      <td> 4311</td>\n",
        "      <td> 61fb50216ca854bfabeeeeb75b042289</td>\n",
        "      <td> sdist</td>\n",
        "      <td> 545298406</td>\n",
        "    </tr>\n",
        "  </tbody>\n",
        "</table>\n",
        "</div>"
       ],
       "metadata": {},
       "output_type": "pyout",
       "prompt_number": 16,
       "text": [
        "         timestamp pypi_name version  downloads  \\\n",
        "113402  1418479726     de422  2009.1       4311   \n",
        "\n",
        "                              md5_digest packagetype       size  \n",
        "113402  61fb50216ca854bfabeeeeb75b042289       sdist  545298406  "
       ]
      }
     ],
     "prompt_number": 16
    },
    {
     "cell_type": "markdown",
     "metadata": {},
     "source": [
      "It seems to be a science data package. Quote:\n",
      "\n",
      "> This is the most recent long-period ephemeris published by the Jet Propulsion Laboratory. While requiring more than half a gigabyte of space, it achieves quite high accuracy.\n",
      "\n",
      "I had to look up the meaning of \"ephemeris\":\n",
      "\n",
      "> In astronomy and celestial navigation, an ephemeris (plural: ephemerides; from Latin ephemeris (\"diary\"), from Greek \u1f10\u03c6\u03b7\u03bc\u03b5\u03c1\u03af\u03c2 (eph\u0113meris, \"diary, calendar\"))[1][2][3] gives the positions of naturally occurring astronomical objects as well as artificial satellites in the sky at a given time or times.\n",
      "\n",
      "([source](http://en.wikipedia.org/wiki/Ephemeris))"
     ]
    }
   ],
   "metadata": {}
  }
 ]
}